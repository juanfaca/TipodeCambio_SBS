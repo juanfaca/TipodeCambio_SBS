{
 "cells": [
  {
   "cell_type": "code",
   "execution_count": 1,
   "id": "4fef95bc-01f1-4a4d-83bd-47052fab8668",
   "metadata": {},
   "outputs": [],
   "source": [
    "import requests\n",
    "from bs4 import BeautifulSoup\n",
    "import pandas as pd\n",
    "import time"
   ]
  },
  {
   "cell_type": "code",
   "execution_count": 2,
   "id": "34099f90-9ed4-435b-bbb0-71c465c25b36",
   "metadata": {},
   "outputs": [],
   "source": [
    "a=time.time()"
   ]
  },
  {
   "cell_type": "markdown",
   "id": "618adc66-8195-47c6-b3f0-a4c0f41abf5b",
   "metadata": {},
   "source": [
    "## 1. Obtención de cookies"
   ]
  },
  {
   "cell_type": "markdown",
   "id": "ace13dac-2991-4f12-b223-163ff043417f",
   "metadata": {},
   "source": [
    "En esta sección se obtienen las cookies de la página para que la consulta funcione."
   ]
  },
  {
   "cell_type": "code",
   "execution_count": 4,
   "id": "eaf6e13a-5020-43b3-8e51-b4c487b2e33d",
   "metadata": {},
   "outputs": [
    {
     "name": "stdout",
     "output_type": "stream",
     "text": [
      "Cookies obtenidas exitosamente.\n"
     ]
    }
   ],
   "source": [
    "url = \"https://www.sbs.gob.pe/app/stats/tc-cv-historico.asp\"\n",
    "session = requests.Session() # Creamos una sesión para guardar las cookies\n",
    "headers_get = { \n",
    "    \"User-Agent\": \"Mozilla/5.0 (Windows NT 10.0; Win64; x64) AppleWebKit/537.36 (KHTML, like Gecko) Chrome/131.0.0.0 Safari/537.36\",\n",
    "    \"Accept\": \"text/html,application/xhtml+xml,application/xml;q=0.9,image/avif,image/webp,image/apng,/;q=0.8,application/signed-exchange;v=b3;q=0.7\",\n",
    "    \"Accept-Encoding\": \"gzip, deflate, br, zstd\",\n",
    "    \"Accept-Language\": \"es-ES,es;q=0.9\",\n",
    "    \"Upgrade-Insecure-Requests\": \"1\",\n",
    "}\n",
    "response = session.get(url, headers=headers_get) #Con el método get entramos a la página y guargamos las cookies\n",
    "if response.status_code == 200:\n",
    "    print(\"Cookies obtenidas exitosamente.\")\n",
    "else:\n",
    "    print(\"Hubo un error\")"
   ]
  },
  {
   "cell_type": "markdown",
   "id": "fe7aa6d5-dec3-4d64-b987-5b365cc8f49b",
   "metadata": {},
   "source": [
    "## 2. Ejecución de consulta a la API"
   ]
  },
  {
   "cell_type": "markdown",
   "id": "17880cfc-1cfc-491b-bfbe-94f7ff06cce4",
   "metadata": {},
   "source": [
    "Aquí se procede con la consulta a la API, los elementos variables son los del diccionario 'data'"
   ]
  },
  {
   "cell_type": "code",
   "execution_count": 6,
   "id": "b7080712-7f6e-4226-829c-c335f1fa443d",
   "metadata": {},
   "outputs": [
    {
     "name": "stdin",
     "output_type": "stream",
     "text": [
      "Ingrese fecha de inicio en formato DD/MM/YYYY:  01/01/2024\n",
      "Ingrese fecha de en formato DD/MM/YYYY:  31/12/2024\n"
     ]
    },
    {
     "name": "stdout",
     "output_type": "stream",
     "text": [
      "Consulta ejecutada.\n"
     ]
    }
   ],
   "source": [
    "headers_post = {\n",
    "    \"Content-Type\": \"application/x-www-form-urlencoded\",\n",
    "    \"Accept\": \"text/html,application/xhtml+xml,application/xml;q=0.9,image/avif,image/webp,image/apng,/;q=0.8,application/signed-exchange;v=b3;q=0.7\",\n",
    "    \"Accept-Encoding\": \"gzip, deflate, br, zstd\",\n",
    "    \"Accept-Language\": \"es-ES,es;q=0.9\",\n",
    "    \"Referer\": url,\n",
    "    \"Origin\": \"https://www.sbs.gob.pe\",\n",
    "    \"User-Agent\": \"Mozilla/5.0 (Windows NT 10.0; Win64; x64) AppleWebKit/537.36 (KHTML, like Gecko) Chrome/131.0.0.0 Safari/537.36\",\n",
    "    \"Upgrade-Insecure-Requests\": \"1\",\n",
    "    \"Sec-Fetch-Dest\": \"document\",\n",
    "    \"Sec-Fetch-Mode\": \"navigate\",\n",
    "    \"Sec-Fetch-Site\": \"same-origin\",\n",
    "    \"Sec-Fetch-User\": \"?1\",\n",
    "}\n",
    "\n",
    "inicio=str(input('Ingrese fecha de inicio en formato DD/MM/YYYY: '))\n",
    "fin=str(input('Ingrese fecha de en formato DD/MM/YYYY: '))\n",
    "\n",
    "# Filtros para ejecutar la consulta a la API\n",
    "data = {\n",
    "    \"FECHA_CONSULTA_1\": inicio,  # Fecha de inicio\n",
    "    \"FECHA_CONSULTA_2\": fin,  # Fecha de fin\n",
    "    \"s_moneda\": \"02\", # \"02\" es el código para el dólar\n",
    "    \"button22\": \"Consultar\"\n",
    "}\n",
    "\n",
    "# Realizar la solicitud POST (se hace desde la sesión guardada)\n",
    "\n",
    "response = session.post(url, headers=headers_post, data=data)\n",
    "if response.status_code == 200:\n",
    "    print(\"Consulta ejecutada.\")\n",
    "else:\n",
    "    print(\"Hubo un error\")"
   ]
  },
  {
   "cell_type": "markdown",
   "id": "5ff329f8-0a46-4ed8-8fdc-92b8a8961797",
   "metadata": {},
   "source": [
    "## 3. Obtención de la información"
   ]
  },
  {
   "cell_type": "markdown",
   "id": "5ed3d1dc-639f-446b-b666-afd254969063",
   "metadata": {},
   "source": [
    "Se parsea la información obtenida y se extrae la tabla del html."
   ]
  },
  {
   "cell_type": "code",
   "execution_count": 8,
   "id": "20a0e9a9-0e44-4a34-896f-df075e350659",
   "metadata": {},
   "outputs": [],
   "source": [
    "response_text=response.text\n",
    "soup = BeautifulSoup(response_text, 'html.parser') # Parseo del código html\n",
    "tabla = soup.find('table', class_='APLI_tabla')\n",
    "filas = tabla.find_all('tr')\n",
    "data = []\n",
    "for fila in filas:\n",
    "    celdas = fila.find_all(['td', 'th'])\n",
    "    data.append([celda.get_text(strip=True) for celda in celdas])\n",
    "\n",
    "df = pd.DataFrame(data[2:], columns=data[1])"
   ]
  },
  {
   "cell_type": "code",
   "execution_count": 9,
   "id": "07556f14-a6bb-4d3c-adfa-b99652658dad",
   "metadata": {},
   "outputs": [
    {
     "data": {
      "text/html": [
       "<div>\n",
       "<style scoped>\n",
       "    .dataframe tbody tr th:only-of-type {\n",
       "        vertical-align: middle;\n",
       "    }\n",
       "\n",
       "    .dataframe tbody tr th {\n",
       "        vertical-align: top;\n",
       "    }\n",
       "\n",
       "    .dataframe thead th {\n",
       "        text-align: right;\n",
       "    }\n",
       "</style>\n",
       "<table border=\"1\" class=\"dataframe\">\n",
       "  <thead>\n",
       "    <tr style=\"text-align: right;\">\n",
       "      <th></th>\n",
       "      <th>FECHA</th>\n",
       "      <th>COMPRA(S/.)</th>\n",
       "      <th>VENTA(S/.)</th>\n",
       "    </tr>\n",
       "  </thead>\n",
       "  <tbody>\n",
       "    <tr>\n",
       "      <th>0</th>\n",
       "      <td>03/01/2024</td>\n",
       "      <td>3.726</td>\n",
       "      <td>3.738</td>\n",
       "    </tr>\n",
       "    <tr>\n",
       "      <th>1</th>\n",
       "      <td>04/01/2024</td>\n",
       "      <td>3.736</td>\n",
       "      <td>3.740</td>\n",
       "    </tr>\n",
       "    <tr>\n",
       "      <th>2</th>\n",
       "      <td>05/01/2024</td>\n",
       "      <td>3.713</td>\n",
       "      <td>3.723</td>\n",
       "    </tr>\n",
       "    <tr>\n",
       "      <th>3</th>\n",
       "      <td>08/01/2024</td>\n",
       "      <td>3.710</td>\n",
       "      <td>3.719</td>\n",
       "    </tr>\n",
       "    <tr>\n",
       "      <th>4</th>\n",
       "      <td>09/01/2024</td>\n",
       "      <td>3.703</td>\n",
       "      <td>3.708</td>\n",
       "    </tr>\n",
       "    <tr>\n",
       "      <th>...</th>\n",
       "      <td>...</td>\n",
       "      <td>...</td>\n",
       "      <td>...</td>\n",
       "    </tr>\n",
       "    <tr>\n",
       "      <th>241</th>\n",
       "      <td>23/12/2024</td>\n",
       "      <td>3.721</td>\n",
       "      <td>3.735</td>\n",
       "    </tr>\n",
       "    <tr>\n",
       "      <th>242</th>\n",
       "      <td>24/12/2024</td>\n",
       "      <td>3.718</td>\n",
       "      <td>3.731</td>\n",
       "    </tr>\n",
       "    <tr>\n",
       "      <th>243</th>\n",
       "      <td>26/12/2024</td>\n",
       "      <td>3.738</td>\n",
       "      <td>3.748</td>\n",
       "    </tr>\n",
       "    <tr>\n",
       "      <th>244</th>\n",
       "      <td>27/12/2024</td>\n",
       "      <td>3.741</td>\n",
       "      <td>3.750</td>\n",
       "    </tr>\n",
       "    <tr>\n",
       "      <th>245</th>\n",
       "      <td>30/12/2024</td>\n",
       "      <td>3.758</td>\n",
       "      <td>3.770</td>\n",
       "    </tr>\n",
       "  </tbody>\n",
       "</table>\n",
       "<p>246 rows × 3 columns</p>\n",
       "</div>"
      ],
      "text/plain": [
       "          FECHA COMPRA(S/.) VENTA(S/.)\n",
       "0    03/01/2024       3.726      3.738\n",
       "1    04/01/2024       3.736      3.740\n",
       "2    05/01/2024       3.713      3.723\n",
       "3    08/01/2024       3.710      3.719\n",
       "4    09/01/2024       3.703      3.708\n",
       "..          ...         ...        ...\n",
       "241  23/12/2024       3.721      3.735\n",
       "242  24/12/2024       3.718      3.731\n",
       "243  26/12/2024       3.738      3.748\n",
       "244  27/12/2024       3.741      3.750\n",
       "245  30/12/2024       3.758      3.770\n",
       "\n",
       "[246 rows x 3 columns]"
      ]
     },
     "execution_count": 9,
     "metadata": {},
     "output_type": "execute_result"
    }
   ],
   "source": [
    "df"
   ]
  },
  {
   "cell_type": "markdown",
   "id": "2ab8be94-cb36-476d-82e3-939efb1435c9",
   "metadata": {},
   "source": [
    "## 4. (Opcional) Complementos a la tabla"
   ]
  },
  {
   "cell_type": "markdown",
   "id": "85a540f5-b259-4731-ba20-ccedce54effa",
   "metadata": {},
   "source": [
    "En esta sección se rellenan fechas sin información (días no hábiles)"
   ]
  },
  {
   "cell_type": "code",
   "execution_count": 11,
   "id": "53cec9bd-3c58-4b7e-9ec5-7108b2385346",
   "metadata": {},
   "outputs": [],
   "source": [
    "df['FECHA'] = pd.to_datetime(df['FECHA'], format='%d/%m/%Y', errors='coerce')"
   ]
  },
  {
   "cell_type": "code",
   "execution_count": 12,
   "id": "4dc256ba-744b-4eee-ba34-de58e1bfcd46",
   "metadata": {},
   "outputs": [
    {
     "name": "stderr",
     "output_type": "stream",
     "text": [
      "C:\\Users\\User\\AppData\\Local\\Temp\\ipykernel_6988\\1578155632.py:2: UserWarning: Parsing dates in %d/%m/%Y format when dayfirst=False (the default) was specified. Pass `dayfirst=True` or specify a format to silence this warning.\n",
      "  fin=pd.to_datetime(fin).date()\n"
     ]
    }
   ],
   "source": [
    "inicio=pd.to_datetime(inicio).date()\n",
    "fin=pd.to_datetime(fin).date()\n",
    "rango_fechas = pd.date_range(start=inicio, end=fin)"
   ]
  },
  {
   "cell_type": "code",
   "execution_count": 13,
   "id": "8d3694ac-a7b4-4aa0-b81a-36c14bb184b9",
   "metadata": {},
   "outputs": [],
   "source": [
    "df = df.set_index('FECHA').reindex(rango_fechas)\n",
    "df.index.name = 'FECHA'\n",
    "for i in df.columns.tolist():\n",
    "    '''\n",
    "    El método ffill llena valores hacia adelante\n",
    "    Por ejemplo: si se tiene un dato del 27/12 y luego no hay hasta el 31/12, los días intermedios tendrán la información del 27/12)\n",
    "    '''\n",
    "    df[i]=df[i].ffill() \n",
    "    '''\n",
    "    El método bfill llena valores hacia atrás\n",
    "    En este caso no hay información del 1 y 2 de enero, este método hace que se rellene dicha información con el valor más cercano (3 de enero)\n",
    "    '''\n",
    "    df[i]=df[i].bfill()"
   ]
  },
  {
   "cell_type": "code",
   "execution_count": 14,
   "id": "cbe95cc7-2335-48fe-82cc-d87c92b51de8",
   "metadata": {},
   "outputs": [
    {
     "data": {
      "text/html": [
       "<div>\n",
       "<style scoped>\n",
       "    .dataframe tbody tr th:only-of-type {\n",
       "        vertical-align: middle;\n",
       "    }\n",
       "\n",
       "    .dataframe tbody tr th {\n",
       "        vertical-align: top;\n",
       "    }\n",
       "\n",
       "    .dataframe thead th {\n",
       "        text-align: right;\n",
       "    }\n",
       "</style>\n",
       "<table border=\"1\" class=\"dataframe\">\n",
       "  <thead>\n",
       "    <tr style=\"text-align: right;\">\n",
       "      <th></th>\n",
       "      <th>COMPRA(S/.)</th>\n",
       "      <th>VENTA(S/.)</th>\n",
       "    </tr>\n",
       "    <tr>\n",
       "      <th>FECHA</th>\n",
       "      <th></th>\n",
       "      <th></th>\n",
       "    </tr>\n",
       "  </thead>\n",
       "  <tbody>\n",
       "    <tr>\n",
       "      <th>2024-01-01</th>\n",
       "      <td>3.726</td>\n",
       "      <td>3.738</td>\n",
       "    </tr>\n",
       "    <tr>\n",
       "      <th>2024-01-02</th>\n",
       "      <td>3.726</td>\n",
       "      <td>3.738</td>\n",
       "    </tr>\n",
       "    <tr>\n",
       "      <th>2024-01-03</th>\n",
       "      <td>3.726</td>\n",
       "      <td>3.738</td>\n",
       "    </tr>\n",
       "    <tr>\n",
       "      <th>2024-01-04</th>\n",
       "      <td>3.736</td>\n",
       "      <td>3.740</td>\n",
       "    </tr>\n",
       "    <tr>\n",
       "      <th>2024-01-05</th>\n",
       "      <td>3.713</td>\n",
       "      <td>3.723</td>\n",
       "    </tr>\n",
       "    <tr>\n",
       "      <th>...</th>\n",
       "      <td>...</td>\n",
       "      <td>...</td>\n",
       "    </tr>\n",
       "    <tr>\n",
       "      <th>2024-12-27</th>\n",
       "      <td>3.741</td>\n",
       "      <td>3.750</td>\n",
       "    </tr>\n",
       "    <tr>\n",
       "      <th>2024-12-28</th>\n",
       "      <td>3.741</td>\n",
       "      <td>3.750</td>\n",
       "    </tr>\n",
       "    <tr>\n",
       "      <th>2024-12-29</th>\n",
       "      <td>3.741</td>\n",
       "      <td>3.750</td>\n",
       "    </tr>\n",
       "    <tr>\n",
       "      <th>2024-12-30</th>\n",
       "      <td>3.758</td>\n",
       "      <td>3.770</td>\n",
       "    </tr>\n",
       "    <tr>\n",
       "      <th>2024-12-31</th>\n",
       "      <td>3.758</td>\n",
       "      <td>3.770</td>\n",
       "    </tr>\n",
       "  </tbody>\n",
       "</table>\n",
       "<p>366 rows × 2 columns</p>\n",
       "</div>"
      ],
      "text/plain": [
       "           COMPRA(S/.) VENTA(S/.)\n",
       "FECHA                            \n",
       "2024-01-01       3.726      3.738\n",
       "2024-01-02       3.726      3.738\n",
       "2024-01-03       3.726      3.738\n",
       "2024-01-04       3.736      3.740\n",
       "2024-01-05       3.713      3.723\n",
       "...                ...        ...\n",
       "2024-12-27       3.741      3.750\n",
       "2024-12-28       3.741      3.750\n",
       "2024-12-29       3.741      3.750\n",
       "2024-12-30       3.758      3.770\n",
       "2024-12-31       3.758      3.770\n",
       "\n",
       "[366 rows x 2 columns]"
      ]
     },
     "execution_count": 14,
     "metadata": {},
     "output_type": "execute_result"
    }
   ],
   "source": [
    "df"
   ]
  },
  {
   "cell_type": "code",
   "execution_count": 15,
   "id": "bcd0cd17-912f-4568-a71c-47fe5d1d2834",
   "metadata": {},
   "outputs": [
    {
     "name": "stdout",
     "output_type": "stream",
     "text": [
      "Proceso terminado en 11.0 segundos\n"
     ]
    }
   ],
   "source": [
    "b=time.time()\n",
    "print(f'Proceso terminado en {round((b-a),0)} segundos')"
   ]
  }
 ],
 "metadata": {
  "kernelspec": {
   "display_name": "Python [conda env:base] *",
   "language": "python",
   "name": "conda-base-py"
  },
  "language_info": {
   "codemirror_mode": {
    "name": "ipython",
    "version": 3
   },
   "file_extension": ".py",
   "mimetype": "text/x-python",
   "name": "python",
   "nbconvert_exporter": "python",
   "pygments_lexer": "ipython3",
   "version": "3.12.7"
  }
 },
 "nbformat": 4,
 "nbformat_minor": 5
}
